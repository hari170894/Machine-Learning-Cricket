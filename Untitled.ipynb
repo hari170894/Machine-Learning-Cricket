{
 "cells": [
  {
   "cell_type": "code",
   "execution_count": 1,
   "metadata": {
    "collapsed": false
   },
   "outputs": [],
   "source": [
    "import pandas\n",
    "import numpy as np \n",
    "\n",
    "data=pandas.read_csv('ipl/deliveries.csv')"
   ]
  },
  {
   "cell_type": "code",
   "execution_count": 2,
   "metadata": {
    "collapsed": false
   },
   "outputs": [
    {
     "name": "stdout",
     "output_type": "stream",
     "text": [
      "   match_id  inning           batting_team                 bowling_team  over  \\\n",
      "0         1       1  Kolkata Knight Riders  Royal Challengers Bangalore     1   \n",
      "1         1       1  Kolkata Knight Riders  Royal Challengers Bangalore     1   \n",
      "2         1       1  Kolkata Knight Riders  Royal Challengers Bangalore     1   \n",
      "3         1       1  Kolkata Knight Riders  Royal Challengers Bangalore     1   \n",
      "4         1       1  Kolkata Knight Riders  Royal Challengers Bangalore     1   \n",
      "\n",
      "   ball      batsman  non_striker   bowler  is_super_over   ...    bye_runs  \\\n",
      "0     1   SC Ganguly  BB McCullum  P Kumar              0   ...           0   \n",
      "1     2  BB McCullum   SC Ganguly  P Kumar              0   ...           0   \n",
      "2     3  BB McCullum   SC Ganguly  P Kumar              0   ...           0   \n",
      "3     4  BB McCullum   SC Ganguly  P Kumar              0   ...           0   \n",
      "4     5  BB McCullum   SC Ganguly  P Kumar              0   ...           0   \n",
      "\n",
      "   legbye_runs  noball_runs  penalty_runs  batsman_runs  extra_runs  \\\n",
      "0            1            0             0             0           1   \n",
      "1            0            0             0             0           0   \n",
      "2            0            0             0             0           1   \n",
      "3            0            0             0             0           0   \n",
      "4            0            0             0             0           0   \n",
      "\n",
      "   total_runs  player_dismissed dismissal_kind fielder  \n",
      "0           1               NaN            NaN     NaN  \n",
      "1           0               NaN            NaN     NaN  \n",
      "2           1               NaN            NaN     NaN  \n",
      "3           0               NaN            NaN     NaN  \n",
      "4           0               NaN            NaN     NaN  \n",
      "\n",
      "[5 rows x 21 columns]\n"
     ]
    }
   ],
   "source": [
    "print data.head()\n",
    "qwe=pandas.read_csv('ipl/deliveries.csv')"
   ]
  },
  {
   "cell_type": "code",
   "execution_count": 3,
   "metadata": {
    "collapsed": true
   },
   "outputs": [],
   "source": [
    "data['bowler_penalty_runs']=data['wide_runs']+data['noball_runs']\n",
    "data['team_penalty_runs']=data['bye_runs']+data['legbye_runs']+data['penalty_runs']\n",
    "del data['wide_runs']\n",
    "del data['noball_runs']\n",
    "del data['bye_runs']\n",
    "del data['legbye_runs']\n",
    "del data['penalty_runs']"
   ]
  },
  {
   "cell_type": "code",
   "execution_count": 4,
   "metadata": {
    "collapsed": false
   },
   "outputs": [
    {
     "name": "stdout",
     "output_type": "stream",
     "text": [
      "   match_id  inning           batting_team                 bowling_team  over  \\\n",
      "0         1       1  Kolkata Knight Riders  Royal Challengers Bangalore     1   \n",
      "1         1       1  Kolkata Knight Riders  Royal Challengers Bangalore     1   \n",
      "2         1       1  Kolkata Knight Riders  Royal Challengers Bangalore     1   \n",
      "3         1       1  Kolkata Knight Riders  Royal Challengers Bangalore     1   \n",
      "4         1       1  Kolkata Knight Riders  Royal Challengers Bangalore     1   \n",
      "\n",
      "   ball      batsman  non_striker   bowler  is_super_over  batsman_runs  \\\n",
      "0     1   SC Ganguly  BB McCullum  P Kumar              0             0   \n",
      "1     2  BB McCullum   SC Ganguly  P Kumar              0             0   \n",
      "2     3  BB McCullum   SC Ganguly  P Kumar              0             0   \n",
      "3     4  BB McCullum   SC Ganguly  P Kumar              0             0   \n",
      "4     5  BB McCullum   SC Ganguly  P Kumar              0             0   \n",
      "\n",
      "   extra_runs  total_runs player_dismissed dismissal_kind fielder  \\\n",
      "0           1           1              NaN            NaN     NaN   \n",
      "1           0           0              NaN            NaN     NaN   \n",
      "2           1           1              NaN            NaN     NaN   \n",
      "3           0           0              NaN            NaN     NaN   \n",
      "4           0           0              NaN            NaN     NaN   \n",
      "\n",
      "   bowler_penalty_runs  team_penalty_runs  \n",
      "0                    0                  1  \n",
      "1                    0                  0  \n",
      "2                    1                  0  \n",
      "3                    0                  0  \n",
      "4                    0                  0  \n"
     ]
    }
   ],
   "source": [
    "print data.head()"
   ]
  },
  {
   "cell_type": "code",
   "execution_count": 5,
   "metadata": {
    "collapsed": false
   },
   "outputs": [
    {
     "name": "stdout",
     "output_type": "stream",
     "text": [
      "       match_id  inning  over  ball  is_super_over  batsman_runs  extra_runs  \\\n",
      "0             1       1     1    28              0             0           3   \n",
      "1             1       1     2    21              0            18           0   \n",
      "2             1       1     3    21              0             5           1   \n",
      "3             1       1     4    28              0            17           6   \n",
      "4             1       1     5    21              0            10           0   \n",
      "5             1       1     6    21              0             1           0   \n",
      "6             1       1     7    21              0             7           0   \n",
      "7             1       1     8    21              0             5           0   \n",
      "8             1       1     9    21              0             4           0   \n",
      "9             1       1    10    21              0            10           0   \n",
      "10            1       1    11    21              0            11           4   \n",
      "11            1       1    12    21              0            10           0   \n",
      "12            1       1    13    28              0            11           1   \n",
      "13            1       1    14    21              0             6           0   \n",
      "14            1       1    15    28              0            22           2   \n",
      "15            1       1    16    21              0             4           0   \n",
      "16            1       1    17    21              0            14           0   \n",
      "17            1       1    18    21              0             7           0   \n",
      "18            1       1    19    21              0            21           0   \n",
      "19            1       1    20    21              0            22           0   \n",
      "20            1       2     1    28              0             3           1   \n",
      "21            1       2     2    21              0             1           4   \n",
      "22            1       2     3    28              0             2           1   \n",
      "23            1       2     4    21              0             3           1   \n",
      "24            1       2     5    21              0             8           0   \n",
      "25            1       2     6    21              0             2           0   \n",
      "26            1       2     7    36              0             5           2   \n",
      "27            1       2     8    21              0             4           1   \n",
      "28            1       2     9    36              0             3           2   \n",
      "29            1       2    10    28              0             6           2   \n",
      "...         ...     ...   ...   ...            ...           ...         ...   \n",
      "22107       577       1    11    21              0             6           0   \n",
      "22108       577       1    12    21              0            12           1   \n",
      "22109       577       1    13    21              0             4           0   \n",
      "22110       577       1    14    21              0             7           0   \n",
      "22111       577       1    15    21              0            13           0   \n",
      "22112       577       1    16    21              0             7           0   \n",
      "22113       577       1    17    28              0             7           2   \n",
      "22114       577       1    18    36              0            10           2   \n",
      "22115       577       1    19    28              0            11           5   \n",
      "22116       577       1    20    21              0            24           0   \n",
      "22117       577       2     1    21              0             4           1   \n",
      "22118       577       2     2    36              0            11           2   \n",
      "22119       577       2     3    28              0             6           2   \n",
      "22120       577       2     4    21              0            16           0   \n",
      "22121       577       2     5    21              0            13           0   \n",
      "22122       577       2     6    21              0             4           0   \n",
      "22123       577       2     7    21              0            10           0   \n",
      "22124       577       2     8    28              0             9           1   \n",
      "22125       577       2     9    21              0            21           0   \n",
      "22126       577       2    10    21              0            12           0   \n",
      "22127       577       2    11    21              0             8           0   \n",
      "22128       577       2    12    21              0             9           0   \n",
      "22129       577       2    13    21              0            12           0   \n",
      "22130       577       2    14    21              0             8           0   \n",
      "22131       577       2    15    21              0             9           0   \n",
      "22132       577       2    16    21              0             4           0   \n",
      "22133       577       2    17    21              0            10           0   \n",
      "22134       577       2    18    21              0             6           1   \n",
      "22135       577       2    19    21              0            11           1   \n",
      "22136       577       2    20    21              0             8           1   \n",
      "\n",
      "       total_runs  bowler_penalty_runs  team_penalty_runs  \n",
      "0               3                    1                  2  \n",
      "1              18                    0                  0  \n",
      "2               6                    0                  1  \n",
      "3              23                    5                  1  \n",
      "4              10                    0                  0  \n",
      "5               1                    0                  0  \n",
      "6               7                    0                  0  \n",
      "7               5                    0                  0  \n",
      "8               4                    0                  0  \n",
      "9              10                    0                  0  \n",
      "10             15                    0                  4  \n",
      "11             10                    0                  0  \n",
      "12             12                    1                  0  \n",
      "13              6                    0                  0  \n",
      "14             24                    2                  0  \n",
      "15              4                    0                  0  \n",
      "16             14                    0                  0  \n",
      "17              7                    0                  0  \n",
      "18             21                    0                  0  \n",
      "19             22                    0                  0  \n",
      "20              4                    1                  0  \n",
      "21              5                    0                  4  \n",
      "22              3                    1                  0  \n",
      "23              4                    0                  1  \n",
      "24              8                    0                  0  \n",
      "25              2                    0                  0  \n",
      "26              7                    2                  0  \n",
      "27              5                    0                  1  \n",
      "28              5                    2                  0  \n",
      "29              8                    1                  1  \n",
      "...           ...                  ...                ...  \n",
      "22107           6                    0                  0  \n",
      "22108          13                    0                  1  \n",
      "22109           4                    0                  0  \n",
      "22110           7                    0                  0  \n",
      "22111          13                    0                  0  \n",
      "22112           7                    0                  0  \n",
      "22113           9                    1                  1  \n",
      "22114          12                    2                  0  \n",
      "22115          16                    5                  0  \n",
      "22116          24                    0                  0  \n",
      "22117           5                    0                  1  \n",
      "22118          13                    2                  0  \n",
      "22119           8                    1                  1  \n",
      "22120          16                    0                  0  \n",
      "22121          13                    0                  0  \n",
      "22122           4                    0                  0  \n",
      "22123          10                    0                  0  \n",
      "22124          10                    1                  0  \n",
      "22125          21                    0                  0  \n",
      "22126          12                    0                  0  \n",
      "22127           8                    0                  0  \n",
      "22128           9                    0                  0  \n",
      "22129          12                    0                  0  \n",
      "22130           8                    0                  0  \n",
      "22131           9                    0                  0  \n",
      "22132           4                    0                  0  \n",
      "22133          10                    0                  0  \n",
      "22134           7                    0                  1  \n",
      "22135          12                    0                  1  \n",
      "22136           9                    0                  1  \n",
      "\n",
      "[22137 rows x 10 columns]\n"
     ]
    }
   ],
   "source": [
    "matchdata= data.groupby(['match_id','inning','over'])\n",
    "print matchdata.sum().reset_index()"
   ]
  },
  {
   "cell_type": "code",
   "execution_count": 6,
   "metadata": {
    "collapsed": false
   },
   "outputs": [],
   "source": [
    "run_split= matchdata.sum()[['batsman_runs','bowler_penalty_runs','team_penalty_runs','total_runs']]\n",
    "run_split=run_split.reset_index()"
   ]
  },
  {
   "cell_type": "code",
   "execution_count": 7,
   "metadata": {
    "collapsed": true
   },
   "outputs": [],
   "source": [
    "batrunover=data.groupby(['match_id','inning','over','batsman'])"
   ]
  },
  {
   "cell_type": "code",
   "execution_count": 8,
   "metadata": {
    "collapsed": false
   },
   "outputs": [],
   "source": [
    "runs_batsman_run_over= batrunover.sum()[['batsman_runs','total_runs']]\n",
    "runs_batsman_run_over=runs_batsman_run_over.reset_index()"
   ]
  },
  {
   "cell_type": "code",
   "execution_count": 9,
   "metadata": {
    "collapsed": false
   },
   "outputs": [
    {
     "name": "stdout",
     "output_type": "stream",
     "text": [
      "   match_id  inning  over      batsman  batsman_runs  total_runs\n",
      "0         1       1     1  BB McCullum             0           2\n",
      "1         1       1     1   SC Ganguly             0           1\n",
      "2         1       1     2  BB McCullum            18          18\n",
      "3         1       1     3  BB McCullum             5           5\n",
      "4         1       1     3   SC Ganguly             0           1\n"
     ]
    }
   ],
   "source": [
    "print runs_batsman_run_over.head()"
   ]
  },
  {
   "cell_type": "code",
   "execution_count": 10,
   "metadata": {
    "collapsed": true
   },
   "outputs": [],
   "source": [
    "def currentbatsmen(matchid,inning,over):\n",
    "    over+=1\n",
    "    x=  data[data['over']==over]\n",
    "    y=x[x['inning']==inning]\n",
    "    z=y[y['match_id']==matchid]\n",
    "    a=z[z['ball']==1]\n",
    "    x=a['batsman']\n",
    "    return str(list(a['batsman'])),str(list(a['non_striker']))\n",
    "    "
   ]
  },
  {
   "cell_type": "code",
   "execution_count": 11,
   "metadata": {
    "collapsed": false
   },
   "outputs": [],
   "source": [
    "def totalruns_per_match_upto(matchid,inning,over):\n",
    "    \n",
    "    x=  data[data['over']<=over]\n",
    "    y=x[x['inning']==inning]\n",
    "    z=y[y['match_id']==matchid].sum()\n",
    "    return z['total_runs']\n",
    "def totalwickets_per_match_upto(matchid,inning,over):\n",
    "    \n",
    "    x=  data[data['over']<=over]\n",
    "    y=x[x['inning']==inning]\n",
    "    z=y[y['match_id']==matchid].count()\n",
    "    return z['player_dismissed']\n",
    "\n"
   ]
  },
  {
   "cell_type": "code",
   "execution_count": 12,
   "metadata": {
    "collapsed": false
   },
   "outputs": [
    {
     "name": "stdout",
     "output_type": "stream",
     "text": [
      "21\n",
      "0\n"
     ]
    }
   ],
   "source": [
    "\n",
    "print totalruns_per_match_upto(1,1,2)\n",
    "print totalwickets_per_match_upto(1,1,2)"
   ]
  },
  {
   "cell_type": "code",
   "execution_count": 13,
   "metadata": {
    "collapsed": false
   },
   "outputs": [
    {
     "name": "stdout",
     "output_type": "stream",
     "text": [
      "['SC Ganguly']\n",
      "['BB McCullum']\n"
     ]
    }
   ],
   "source": [
    "x,y= currentbatsmen(1,1,2)\n",
    "print x\n",
    "print y"
   ]
  },
  {
   "cell_type": "code",
   "execution_count": 14,
   "metadata": {
    "collapsed": true
   },
   "outputs": [],
   "source": [
    "def runs_balls_Batsmen_upto(matchid,inning,over,Batsman):\n",
    "    x=qwe[qwe['over']<=over]\n",
    "    y=x[x['inning']==inning]\n",
    "    z=y[y['match_id']==matchid]\n",
    "    z=z[z['wide_runs']==0]\n",
    "    x=z[z['batsman']==Batsman].count()\n",
    "    y=z[z['batsman']==Batsman].sum()\n",
    "    return y['batsman_runs'],x['ball']"
   ]
  },
  {
   "cell_type": "code",
   "execution_count": 15,
   "metadata": {
    "collapsed": false
   },
   "outputs": [
    {
     "name": "stdout",
     "output_type": "stream",
     "text": [
      "(18, 11)\n"
     ]
    }
   ],
   "source": [
    "print runs_balls_Batsmen_upto(1,1,2,'BB McCullum')"
   ]
  },
  {
   "cell_type": "code",
   "execution_count": 16,
   "metadata": {
    "collapsed": true
   },
   "outputs": [],
   "source": [
    "def number_of_out_runs_ballsfaced(Batsman,matchid):\n",
    "    x=data[data['match_id']<matchid]\n",
    "    y=x[x['player_dismissed']==Batsman]\n",
    "    z=x[x['batsman']==Batsman].sum()\n",
    "    p=x[x['batsman']==Batsman].count()\n",
    "    return y.count()['player_dismissed'],z['batsman_runs'],p['ball']"
   ]
  },
  {
   "cell_type": "code",
   "execution_count": 17,
   "metadata": {
    "collapsed": false
   },
   "outputs": [
    {
     "name": "stdout",
     "output_type": "stream",
     "text": [
      "(3, 188, 96)\n"
     ]
    }
   ],
   "source": [
    "print number_of_out_runs_ballsfaced('BB McCullum',20)"
   ]
  },
  {
   "cell_type": "code",
   "execution_count": 18,
   "metadata": {
    "collapsed": true
   },
   "outputs": [],
   "source": [
    "\n",
    "def get_season(match_id):\n",
    "    if(match_id < 59):\n",
    "        return 1\n",
    "    if(match_id < 116) & (match_id > 58):\n",
    "        return 2\n",
    "    if(match_id < 176) & (match_id > 116):\n",
    "        return 3\n",
    "    if(match_id < 250) & (match_id > 176):\n",
    "        return 4\n",
    "    if(match_id < 323) & (match_id > 250):\n",
    "        return 5\n",
    "    if(match_id < 399) & (match_id > 323):\n",
    "        return 6\n",
    "    if(match_id < 459) & (match_id > 399):\n",
    "        return 7\n",
    "    if(match_id < 517) & (match_id > 459):\n",
    "        return 8\n",
    "    else:\n",
    "        return 9\n",
    "\n",
    "def get_min_limit_of_season(season):\n",
    "    if(season == 1):\n",
    "        return 1\n",
    "    if(season == 2):\n",
    "        return 59\n",
    "    if(season == 3):\n",
    "        return 116\n",
    "    if(season == 4):\n",
    "        return 176\n",
    "    if(season == 5):\n",
    "        return 250\n",
    "    if(season == 6):\n",
    "        return 323\n",
    "    if(season == 7):\n",
    "        return 399\n",
    "    if(season == 8):\n",
    "        return 459\n",
    "    if(season == 9):\n",
    "        return 517"
   ]
  },
  {
   "cell_type": "code",
   "execution_count": 19,
   "metadata": {
    "collapsed": true
   },
   "outputs": [],
   "source": [
    "def seasonal_number_of_out_runs_ballsfaced(Batsman,matchid):\n",
    "    minmatchid=get_min_limit_of_season(get_season(matchid))\n",
    "    w=qwe[qwe['match_id']>=minmatchid]\n",
    "    x=w[w['match_id']<matchid]\n",
    "    y=x[x['player_dismissed']==Batsman]\n",
    "    z=x[x['batsman']==Batsman].sum()\n",
    "    x=x[x['wide_runs']==0]\n",
    "    p=x[x['batsman']==Batsman].count()\n",
    "    return y.count()['player_dismissed'],z['batsman_runs'],p['ball']\n",
    "    "
   ]
  },
  {
   "cell_type": "code",
   "execution_count": 20,
   "metadata": {
    "collapsed": false
   },
   "outputs": [
    {
     "name": "stdout",
     "output_type": "stream",
     "text": [
      "(0, 158, 73)\n"
     ]
    }
   ],
   "source": [
    "print seasonal_number_of_out_runs_ballsfaced('BB McCullum',2)"
   ]
  },
  {
   "cell_type": "code",
   "execution_count": 21,
   "metadata": {
    "collapsed": false
   },
   "outputs": [],
   "source": [
    "import sys"
   ]
  },
  {
   "cell_type": "code",
   "execution_count": 22,
   "metadata": {
    "collapsed": false
   },
   "outputs": [],
   "source": [
    "sys.path.insert(0, sys.path[0]+'\\\\ipl')"
   ]
  },
  {
   "cell_type": "code",
   "execution_count": 23,
   "metadata": {
    "collapsed": false
   },
   "outputs": [
    {
     "name": "stdout",
     "output_type": "stream",
     "text": [
      "16\n",
      "16\n"
     ]
    }
   ],
   "source": [
    "\n",
    "matches = pandas.read_csv(\"ipl/matches.csv\")\n",
    "deliveries = pandas.read_csv(\"ipl/del-modified.csv\")\n",
    "\n",
    "# Match utility functions\n",
    "def get_runs_in_over(match_id, innings, overid):\n",
    "    match_balls = deliveries[deliveries[\"match_id\"] == match_id]\n",
    "    innings_balls = match_balls[match_balls[\"inning\"] == innings]\n",
    "    over_balls = innings_balls[innings_balls[\"over\"] == overid]\n",
    "    runs = over_balls[\"total_runs\"]\n",
    "    return runs.sum()\n",
    "\n",
    "def get_runs_by_bowler_in_match(match_id, innings, bowler):\n",
    "    over_list = get_over_list_by_bowler(match_id, bowler, 20)\n",
    "    count = 0\n",
    "    for i in range(0,len(over_list)):\n",
    "        count += get_runs_in_over(match_id, innings, over_list[i])\n",
    "    return count\n",
    "\n",
    "def get_wickets_by_bowler_in_match(match_id, innings, bowler):\n",
    "    over_list = get_over_list_by_bowler(match_id, bowler, 20)\n",
    "    count = 0\n",
    "    for i in range(0,len(over_list)):\n",
    "        count += get_wickets_by_bowler_in_over(match_id, innings, over_list[i])\n",
    "    return count\n",
    "\n",
    "\n",
    "def get_over_list_by_bowler(match_id, bowler, overlimit):\n",
    "    match_balls = deliveries[deliveries[\"match_id\"] == match_id]\n",
    "    bowler_balls = match_balls[match_balls[\"bowler\"] == bowler]\n",
    "    over_balls = bowler_balls[bowler_balls[\"over\"] <= overlimit]\n",
    "    over_balls = over_balls[\"over\"]\n",
    "    over_list = over_balls.unique()\n",
    "    return over_list\n",
    "\n",
    "def get_wickets_in_over(match_id, innings, over_id):\n",
    "    match_balls = deliveries[deliveries[\"match_id\"] == match_id]\n",
    "    innings_balls = match_balls[match_balls[\"inning\"] == innings]\n",
    "    over_balls = innings_balls[innings_balls[\"over\"] == over_id]\n",
    "    wick = over_balls[over_balls[\"dismissal_kind\"] != \"0\"]\n",
    "    return len(wick)\n",
    "\n",
    "def get_wickets_by_bowler_in_over(match_id, innings, over_id):\n",
    "    match_balls = deliveries[deliveries[\"match_id\"] == match_id]\n",
    "    innings_balls = match_balls[match_balls[\"inning\"] == innings]\n",
    "    over_balls = innings_balls[innings_balls[\"over\"] == over_id]\n",
    "    wick = over_balls[over_balls[\"dismissal_kind\"] != \"0\"]\n",
    "    wick = wick[wick[\"dismissal_kind\"] != \"run out\"]\n",
    "    return len(wick)\n",
    "\n",
    "def get_wickets_upto_over(match_id, innings, over_id):\n",
    "    wick = 0\n",
    "    for i in range(1,over_id+1):\n",
    "        wick += get_wickets_in_over(match_id, innings, i)\n",
    "\n",
    "    return wick\n",
    "\n",
    "def get_run_rate_upto_over(match_id, innings, over_id):\n",
    "    runs = 0\n",
    "    for i in range(1,over_id+1):\n",
    "        runs += get_runs_in_over(match_id, innings, i)\n",
    "\n",
    "    return float(runs)/over_id\n",
    "#\n",
    "#\n",
    "# Match helper functions functions\n",
    "def get_bowler_list(match_id, innings):\n",
    "    bowlerlist = []\n",
    "    match_balls = deliveries[deliveries[\"match_id\"] == match_id]\n",
    "    innings_balls = match_balls[match_balls[\"inning\"] == innings]\n",
    "    tot_bolwers = innings_balls[\"bowler\"]\n",
    "    bowlerlist = tot_bolwers.unique()\n",
    "    return bowlerlist\n",
    "\n",
    "def get_innings_of_bowler(match_id, bowler):\n",
    "    match_balls = deliveries[deliveries[\"match_id\"] == match_id]\n",
    "    bowler_balls = match_balls[match_balls[\"bowler\"] == bowler]\n",
    "    ing = bowler_balls[\"inning\"].unique()\n",
    "    if len(ing) > 0 :\n",
    "        return ing[0]\n",
    "    else:\n",
    "        return 0\n",
    "\n",
    "#\n",
    "#\n",
    "# prior statiistics functions given a bowler\n",
    "def get_previous_match_list(bowler,matchlimit):\n",
    "    bowler_balls = deliveries[deliveries[\"bowler\"] == bowler]\n",
    "    matchlimit = bowler_balls[bowler_balls[\"match_id\"] < matchlimit]\n",
    "    matchlist = matchlimit[\"match_id\"]\n",
    "    return matchlist.unique()\n",
    "    \n",
    "def get_previous_runs_by_bowler(bowler, match_id):\n",
    "    match_list = get_previous_match_list(bowler, match_id)\n",
    "    ing = 0\n",
    "    run = 0\n",
    "    for i in range(0,len(match_list)):\n",
    "        ing = get_innings_of_bowler(match_list[i], bowler)\n",
    "        run += get_runs_by_bowler_in_match(match_list[i], ing, bowler)\n",
    "    return run\n",
    "\n",
    "def get_previous_wickets_by_bowler(bowler, match_id):\n",
    "    match_list = get_previous_match_list(bowler, match_id)\n",
    "    ing = 0\n",
    "    wick = 0\n",
    "    for i in range(0,len(match_list)):\n",
    "        ing = get_innings_of_bowler(match_list[i], bowler)\n",
    "        wick += get_wickets_by_bowler_in_match(match_id, ing, bowler)\n",
    "    return wick\n",
    "\n",
    "def get_previous_over_by_bowler(bowler,match_id):\n",
    "    match_list = get_previous_match_list(bowler, match_id)\n",
    "    over_count = 0\n",
    "    for i in match_list:\n",
    "        over_count += len(get_over_list_by_bowler(i, bowler, 20))\n",
    "    return over_count\n",
    "\n",
    "def get_previous_strike_rate_by_bowler(bowler, match_id):\n",
    "    wick = get_previous_wickets_by_bowler(bowler, match_id)\n",
    "    balls = get_previous_over_by_bowler(bowler, match_id)*6\n",
    "    if(wick == 0):\n",
    "        return get_prior_strike_rate(match_id)\n",
    "\n",
    "    return float(balls)/wick\n",
    "\n",
    "def get_previous_economy_by_bowler(bowler, match_id):\n",
    "    run = get_previous_runs_by_bowler(bowler, match_id)\n",
    "    over = get_previous_over_by_bowler(bowler, match_id)\n",
    "    ec  = 0\n",
    "    if(over == 0):\n",
    "        ec = get_prior_economy(match_id)\n",
    "    else:\n",
    "        ec = float(run)/over\n",
    "    return ec\n",
    "#\n",
    "#\n",
    "#prior statistics for all bowlers\n",
    "def get_prior_economy(match_id):\n",
    "    if(match_id == 1):\n",
    "        return 7.986\n",
    "\n",
    "    actual_balls = deliveries[deliveries[\"match_id\"] < match_id]\n",
    "    not_wide = actual_balls[actual_balls[\"wide_runs\"] == 0]\n",
    "    valid_deliveries = not_wide[not_wide[\"noball_runs\"] == 0]\n",
    "    ball_count = len(valid_deliveries)\n",
    "    over_count = float(ball_count) / 6\n",
    "\n",
    "    run_column = actual_balls[\"total_runs\"]\n",
    "    run_count = run_column.sum()\n",
    "    economy = float(run_count)/over_count\n",
    "    return economy\n",
    "\n",
    "def get_prior_strike_rate(match_id):\n",
    "    if(match_id == 1):\n",
    "        return 19.6\n",
    "    \n",
    "    actual_balls = deliveries[deliveries[\"match_id\"] < match_id]\n",
    "\n",
    "    not_wide = actual_balls[actual_balls[\"wide_runs\"] == 0]\n",
    "    valid_deliveries = not_wide[not_wide[\"noball_runs\"] == 0]\n",
    "    ball_count = len(valid_deliveries)\n",
    "\n",
    "    wick = actual_balls[actual_balls[\"dismissal_kind\"] != \"0\"]\n",
    "    wick_count = len(wick)\n",
    "    strike_rate = float(ball_count)/wick_count\n",
    "    return strike_rate\n",
    "\n",
    "def get_prior_bowling_average(match_id):\n",
    "    if(match_id == 1):\n",
    "        return 27.53\n",
    "\n",
    "    actual_balls = deliveries[deliveries[\"match_id\"] < match_id]\n",
    "    valid_runs = actual_balls[\"batsman_runs\"]\n",
    "    run_count = valid_runs.sum()\n",
    "\n",
    "    wick = actual_balls[actual_balls[\"dismissal_kind\"] != \"0\"]\n",
    "    valid_wick = wick[wick[\"dismissal_kind\"] != \"run out\"]\n",
    "    wick_count = len(valid_wick)\n",
    "    average = float(run_count)/wick_count\n",
    "    return average\n",
    "#\n",
    "#\n",
    "# seasonal statistics\n",
    "def get_seasonal_match_list(bowler, matchlimit):\n",
    "    season = get_season(matchlimit)\n",
    "    min_limit = get_min_limit_of_season(season)\n",
    "\n",
    "    season_balls = deliveries[deliveries[\"match_id\"] >= min_limit]\n",
    "    past_balls = season_balls[season_balls[\"match_id\"] < matchlimit]\n",
    "    bowler_balls = past_balls[past_balls[\"bowler\"] == bowler]\n",
    "    matchlist = bowler_balls[\"match_id\"]\n",
    "    return matchlist.unique()\n",
    "\n",
    "def get_season(match_id):\n",
    "    if(match_id < 59):\n",
    "        return 1\n",
    "    if(match_id < 116) & (match_id > 58):\n",
    "        return 2\n",
    "    if(match_id < 176) & (match_id > 116):\n",
    "        return 3\n",
    "    if(match_id < 250) & (match_id > 176):\n",
    "        return 4\n",
    "    if(match_id < 323) & (match_id > 250):\n",
    "        return 5\n",
    "    if(match_id < 399) & (match_id > 323):\n",
    "        return 6\n",
    "    if(match_id < 459) & (match_id > 399):\n",
    "        return 7\n",
    "    if(match_id < 517) & (match_id > 459):\n",
    "        return 8\n",
    "    else:\n",
    "        return 9\n",
    "\n",
    "def get_min_limit_of_season(season):\n",
    "    if(season == 1):\n",
    "        return 1\n",
    "    if(season == 2):\n",
    "        return 59\n",
    "    if(season == 3):\n",
    "        return 116\n",
    "    if(season == 4):\n",
    "        return 176\n",
    "    if(season == 5):\n",
    "        return 250\n",
    "    if(season == 6):\n",
    "        return 323\n",
    "    if(season == 7):\n",
    "        return 399\n",
    "    if(season == 8):\n",
    "        return 459\n",
    "    if(season == 9):\n",
    "        return 517\n",
    "\n",
    "\n",
    "def get_seasonal_economy(bowler, match_id):\n",
    "    matchlist = get_seasonal_match_list(bowler, match_id)\n",
    "    if len(matchlist) == 0:\n",
    "        return get_previous_economy_by_bowler(bowler, match_id)\n",
    "    run = 0\n",
    "    over = 0\n",
    "    for et in matchlist:\n",
    "        ing = get_innings_of_bowler(et,bowler)\n",
    "        run += get_runs_by_bowler_in_match(et, ing, bowler)\n",
    "        over += len(get_over_list_by_bowler(et, bowler, 20))\n",
    "\n",
    "    ec = float(run)/over\n",
    "    return ec\n",
    "\n",
    "def get_seasonal_wicket_count(bowler, match_id):\n",
    "    matchlist = get_seasonal_match_list(bowler, match_id)\n",
    "    if len(matchlist) == 0:\n",
    "        return 0\n",
    "\n",
    "    wick = 0\n",
    "    for et in matchlist:\n",
    "        ing = get_innings_of_bowler(et, bowler)\n",
    "        wick += get_wickets_by_bowler_in_match(et, ing, bowler) \n",
    "    return wick\n",
    "\n",
    "def get_seasonal_strike_rate(bowler, match_id):\n",
    "    matchlist = get_seasonal_match_list(bowler, match_id)\n",
    "    if len(matchlist) == 0:\n",
    "        return get_previous_strike_rate_by_bowler(bowler, match_id)\n",
    "    ball = 0.0\n",
    "    wick = get_seasonal_wicket_count(bowler, match_id)\n",
    "    for et in matchlist:\n",
    "        ing = get_innings_of_bowler(et, bowler)\n",
    "        ball += len(get_over_list_by_bowler(et, bowler, 20))*6\n",
    "\n",
    "    if wick == 0:\n",
    "        return get_previous_strike_rate_by_bowler(bowler, match_id)\n",
    "\n",
    "    sr = float(ball)/ wick\n",
    "    return sr\n",
    "\n",
    "\n",
    "\n",
    "\n",
    "\n",
    "def get_seasonal_weighted_economy(match_id, innings):\n",
    "    bowler_list = get_bowler_list(match_id,innings)\n",
    "    ec = 0.0\n",
    "    for et in bowler_list:\n",
    "        ec += get_seasonal_economy(et, match_id)\n",
    "    \n",
    "    ec = float(ec)/len(bowler_list)\n",
    "    return ec\n",
    "\n",
    "def get_seasonal_weighted_strike_rate(match_id, innings):\n",
    "    bowler_list = get_bowler_list(match_id,innings)\n",
    "    sr = 0.0\n",
    "    for et in bowler_list:\n",
    "        sr += get_seasonal_strike_rate(et, match_id)\n",
    "    \n",
    "    sr = float(sr)/len(bowler_list)\n",
    "    return sr\n",
    "    \n",
    "    \n",
    "\n",
    "#\n",
    "#\n",
    "#Get weighted economy of the bowlers\n",
    "def get_weighted_economy_of_bowlers(match_id,innings):\n",
    "    bowler_list = get_bowler_list(match_id,innings)\n",
    "    ec = 0.0\n",
    "    for et in bowler_list:\n",
    "        pre_match_list = get_previous_match_list(et, match_id)\n",
    "        if(len(pre_match_list) == 0):\n",
    "            ec += get_prior_economy(match_id)\n",
    "        else:\n",
    "            runs = get_previous_runs_by_bowler(et,match_id)\n",
    "            overs = get_previous_over_by_bowler(et, match_id)\n",
    "            ec += float(runs)/overs\n",
    "    ec = ec/len(bowler_list)\n",
    "    return ec\n",
    "\n",
    "def get_weighted_strike_rate_of_bowlers(match_id, innings):\n",
    "    bowler_list = get_bowler_list(match_id,innings)\n",
    "    sr = 0.0\n",
    "    for et in bowler_list:\n",
    "        sr += get_previous_strike_rate_by_bowler(et, match_id)\n",
    "    sr = sr/len(bowler_list)\n",
    "    return sr\n",
    "\n",
    "\n",
    "def get_toss_value(match_id, innings):\n",
    "    t = 0\n",
    "    match_record = matches[matches[\"id\"] == match_id ]\n",
    "    dec =  match_record.get_value(match_record.index[0], 'toss_decision')\n",
    "    if(dec == \"bat\"):\n",
    "        t = 1\n",
    "    else:\n",
    "        t = 2\n",
    "    if(t ==  innings):\n",
    "        return 1\n",
    "    else:\n",
    "        return 0\n",
    "\n",
    "\n",
    "def validate_pair(teamName, location):\n",
    "    t = 0\n",
    "    if(teamName == 'Kolkata Knight Riders') & (location == 'Kolkata'):\n",
    "        t = 1\n",
    "    if(teamName == 'Chennai Super Kings') & (location == 'Chennai'):\n",
    "        t = 1\n",
    "    if(teamName == 'Rajasthan Royals') & (location == 'Jaipur'):\n",
    "        t = 1\n",
    "    if(teamName == 'Mumbai Indians') & (location == 'Mumbai'):\n",
    "        t = 1\n",
    "    if(teamName == 'Deccan Chargers') & (location == 'Hyderabad'):\n",
    "        t = 1\n",
    "    if(teamName == 'Kings XI Punjab') & (location == 'Chandigarh'):\n",
    "        t = 1\n",
    "    if(teamName == 'Royal Challengers Bangalore') & (location == 'Bangalore'):\n",
    "        t = 1\n",
    "    if(teamName == 'Delhi Daredevils') & (location == 'Delhi'):\n",
    "        t = 1\n",
    "    if(teamName == 'Kochi Tuskers Kerala') & (location == 'Kochi'):\n",
    "        t = 1\n",
    "    if(teamName == 'Pune Warriors') & (location == 'Pune'):\n",
    "        t = 1\n",
    "    if(teamName == 'Sunrisers Hyderabad') & (location == 'Hyderabad'):\n",
    "        t = 1\n",
    "    if(teamName == 'Rising Pune Supergiants') & (location == 'Pune'):\n",
    "        t = 1\n",
    "    if(teamName == 'Gujarat Lions') & (location == 'Rajkot'):\n",
    "        t = 1\n",
    "    \n",
    "    return t\n",
    "\n",
    "    \n",
    "\n",
    "def check_homeground(match_id,innings):\n",
    "    teamName = \"\"\n",
    "    match_record = matches[matches[\"id\"] == match_id ]\n",
    "    if(innings == 1):\n",
    "        teamName = match_record.get_value(match_record.index[0], 'team1')\n",
    "    else:\n",
    "        teamName = match_record.get_value(match_record.index[0], 'team2')\n",
    "    \n",
    "    location = match_record.get_value(match_record.index[0], 'city')\n",
    "    return validate_pair(teamName, location)\n",
    "\n",
    "\n",
    "\n",
    "\n",
    "def get_recent_runrate(match_id, innings, over_id):\n",
    "    if(over_id <=3):\n",
    "        return get_run_rate_upto_over(match_id, innings, over_id)\n",
    "    else:\n",
    "        runs = 0\n",
    "        runs += get_runs_in_over(match_id, innings, over_id-1)\n",
    "        runs += get_runs_in_over(match_id, innings, over_id -2)\n",
    "        runs += get_runs_in_over(match_id, innings, over_id-3)\n",
    "        return float(runs)/3   \n",
    "\n",
    "def compare(bowler1,bowler2, match_id, innings):\n",
    "    wick1 = get_seasonal_wicket_count(bowler1, match_id)\n",
    "    wick2 = get_seasonal_wicket_count(bowler2, match_id)\n",
    "\n",
    "    if(wick1 > wick2):\n",
    "        return 1\n",
    "    if (wick2 > wick1):\n",
    "        return -1\n",
    "    else:\n",
    "        ec1 = get_seasonal_economy(bowler1, match_id)\n",
    "        ec2 = get_seasonal_economy(bowler2, match_id)\n",
    "        if(int(ec1*100) < int(ec2*100)):\n",
    "            return 1\n",
    "        if(int(ec1*100) > int(ec2*100)):\n",
    "            return -1\n",
    "        else:\n",
    "            pr1 = get_previous_economy_by_bowler(bowler1, match_id)\n",
    "            pr2 = get_previous_economy_by_bowler(bowler2, match_id)\n",
    "            if(pr1 < pr2):\n",
    "                return 1\n",
    "            else:\n",
    "                return -1 \n",
    "\n",
    "def get_current_match_stats_upto_over(bowler, match_id, innings, over_id):\n",
    "    over_list = get_over_list_by_bowler(match_id, bowler, over_id)\n",
    "    wick = 0\n",
    "    runs = 0\n",
    "    over_count = 0\n",
    "\n",
    "    for i in over_list:\n",
    "        if i <= over_id:\n",
    "            over_count += 1\n",
    "            runs += get_runs_in_over(match_id, innings, i)\n",
    "            wick += get_wickets_by_bowler_in_over(match_id, innings, i)\n",
    "    \n",
    "    if(over_count == 0):\n",
    "        return get_seasonal_economy(bowler, match_id), wick\n",
    "    else:\n",
    "        return float(runs)/over_count, wick\n",
    "\n",
    "\n",
    "def get_top_bowlers(match_id, innings):\n",
    "    bowler_list = get_bowler_list(match_id, innings)\n",
    "    for i in range(len(bowler_list)):\n",
    "        for j in range(len(bowler_list)-1, i, -1):\n",
    "            if( compare(bowler_list[j], bowler_list[j-1] , match_id, innings) > 0 ):\n",
    "                temp = bowler_list[j]\n",
    "                bowler_list[j] = bowler_list[j-1]\n",
    "                bowler_list[j-1] = temp\n",
    "    return bowler_list\n",
    "\n",
    "def get_top_bowlers_stats(match_id, innings, over_id):\n",
    "    bowler_list = get_top_bowlers(match_id, innings)\n",
    "\n",
    "    default_ec = get_prior_economy(match_id)\n",
    "    curr_stats = []\n",
    "    prev_stats = []\n",
    "    wick_stats = []\n",
    "\n",
    "    for i in range(3):\n",
    "        curr_stats.append(default_ec)\n",
    "        prev_stats.append(default_ec)\n",
    "        wick_stats.append(0)\n",
    "\n",
    "    for i in range(3):\n",
    "        if(i < len(bowler_list)):\n",
    "            temp = get_current_match_stats_upto_over(bowler_list[i], match_id, innings,over_id)\n",
    "            curr_stats[i] = temp[0]\n",
    "            wick_stats[i] = temp[1]\n",
    "            prev_stats[i] = get_seasonal_economy(bowler_list[i], match_id)\n",
    "    \n",
    "    return curr_stats, prev_stats, wick_stats\n",
    "\n",
    "\n",
    "\n",
    "def get_feature_vec(match_id, innings, over_id):\n",
    "    curr_ec, prev_ec, wick = get_top_bowlers_stats(match_id, innings, over_id)\n",
    "    return get_recent_runrate(match_id, innings, over_id), curr_ec[0], prev_ec[0], wick[0], curr_ec[1], prev_ec[1], wick[1], curr_ec[2], prev_ec[2], wick[2], get_wickets_upto_over(match_id, innings ,over_id), get_run_rate_upto_over(match_id, innings, over_id) ,get_toss_value(match_id, innings), check_homeground(match_id, innings), get_seasonal_weighted_economy(match_id,innings), get_seasonal_weighted_strike_rate(match_id, innings)\n",
    "\n",
    "\n",
    "\n",
    "\n",
    "print len([\"recent_runrate\",\"top_bowler1_curr\", \"top_bowler1_prev\", \"wick1_curr\", \"top_bowler2_curr\", \"top_bowler2_prev\", \"wick2_curr\", \"top_bowler3_curr\", \"top_bowler3_prev\", \"wick3_curr\", \"wickets\", \"run-rate\", \"toss\" , \"homeground\", \"seasonal-weighted-economy\", \"seasonal-strikerate\"])\n",
    "print len(get_feature_vec(1,1,1))\n",
    "\n",
    "# skip these mathces 242 487\n"
   ]
  },
  {
   "cell_type": "code",
   "execution_count": 24,
   "metadata": {
    "collapsed": true
   },
   "outputs": [],
   "source": [
    "def overs_match(matchid,inning):\n",
    "    x=data[data['match_id']==matchid]\n",
    "    y=x[x['inning']==inning].max()\n",
    "    return y['over']\n",
    "    "
   ]
  },
  {
   "cell_type": "code",
   "execution_count": 25,
   "metadata": {
    "collapsed": false
   },
   "outputs": [
    {
     "name": "stdout",
     "output_type": "stream",
     "text": [
      "toss\n",
      "homeground\n",
      "seasonal-weighted-economy\n",
      "seasonal-strikerate\n"
     ]
    }
   ],
   "source": [
    "qwerty=[\"recent_runrate\",\"top_bowler1_curr\", \"top_bowler1_prev\", \"wick1_curr\", \"top_bowler2_curr\", \"top_bowler2_prev\", \"wick2_curr\", \"top_bowler3_curr\", \"top_bowler3_prev\", \"wick3_curr\", \"wickets\", \"run-rate\", \"toss\" , \"homeground\", \"seasonal-weighted-economy\", \"seasonal-strikerate\"]\n",
    "print qwerty[12]\n",
    "print qwerty[13]\n",
    "print qwerty[14]\n",
    "print qwerty[15]"
   ]
  },
  {
   "cell_type": "code",
   "execution_count": 26,
   "metadata": {
    "collapsed": true
   },
   "outputs": [],
   "source": [
    "heads=['match','toss','home/away','innings','over','runs','wicket','batsman_runs','non_striker_runs','batsman_strikerate','non_striker_strikerate','seasonal_batsman_runs','seasonal_non_striker_runs','seasonal_batsman_average','seasonal_non_striker_average','seasonal_batsman_strikerate','seasonal_non_striker_strikerate','bowler_seasonal_economy','bowler_seasonal_strikerate',\"recent_runrate\",\"top_bowler1_curr\", \"top_bowler1_prev\", \"wick1_curr\", \"top_bowler2_curr\", \"top_bowler2_prev\", \"wick2_curr\", \"top_bowler3_curr\", \"top_bowler3_prev\", \"wick3_curr\", \"wickets\", \"run-rate\",]"
   ]
  },
  {
   "cell_type": "code",
   "execution_count": null,
   "metadata": {
    "collapsed": false
   },
   "outputs": [
    {
     "name": "stdout",
     "output_type": "stream",
     "text": [
      "\n"
     ]
    }
   ],
   "source": []
  },
  {
   "cell_type": "code",
   "execution_count": null,
   "metadata": {
    "collapsed": false
   },
   "outputs": [
    {
     "name": "stdout",
     "output_type": "stream",
     "text": [
      "1 1\n"
     ]
    }
   ],
   "source": [
    "x = pandas.DataFrame(columns=heads)\n",
    "#x = x.fillna(0)\n",
    "v=0\n",
    "#print x\n",
    "x2=[]\n",
    "for i in range(1,578):\n",
    "    \n",
    "    if(i==242 or i==487):\n",
    "        continue\n",
    "    for j in range(1,3):\n",
    "        print i,j\n",
    "        for o in range(1,overs_match(i,j)+1):\n",
    "            a1,a2,a3,a4,a5,a6,a7,a8,a9,a10,a11,a12,q1,w1,e1,r1=get_feature_vec(i,j,o)\n",
    "            a=[]\n",
    "            a.append(i)\n",
    "            a.append(q1)\n",
    "            a.append(w1)\n",
    "            a.append(j)\n",
    "            a.append(o)\n",
    "            a.append(totalruns_per_match_upto(i,j,o))\n",
    "            a.append(totalwickets_per_match_upto(i,j,o))\n",
    "            q,w=currentbatsmen(i,j,o)\n",
    "            q= q[2:-2]\n",
    "            w=w[2:-2]\n",
    "            #print o\n",
    "            k,l=runs_balls_Batsmen_upto(i,j,o,q)\n",
    "            #print l\n",
    "            m,n=runs_balls_Batsmen_upto(i,j,o,w)\n",
    "            #print n\n",
    "            a.append(k)\n",
    "            a.append(m)\n",
    "            if(l==0):\n",
    "                l=1\n",
    "            if(n==0):\n",
    "                n=1\n",
    "            a.append((k/float(l))*100)\n",
    "            a.append((m/float(n))*100)\n",
    "            s,d,e=seasonal_number_of_out_runs_ballsfaced(q,i)\n",
    "            t,f,u=seasonal_number_of_out_runs_ballsfaced(w,i)\n",
    "            a.append(d)\n",
    "            a.append(f)\n",
    "            if(s==0):\n",
    "                s=1\n",
    "            if(t==0):\n",
    "                t=1\n",
    "            a.append(d/s)\n",
    "            a.append(f/float(t))\n",
    "            if(e==0):\n",
    "                e=1\n",
    "            if(u==0):\n",
    "                u=1\n",
    "            a.append((d/float(e))*100)\n",
    "            a.append((f/float(u))*100)\n",
    "            a.append(e1)\n",
    "            a.append(r1)\n",
    "            \n",
    "            a.append(a1)\n",
    "            a.append(a2)\n",
    "            a.append(a3)\n",
    "            a.append(a4)\n",
    "            a.append(a5)\n",
    "            a.append(a6)\n",
    "            a.append(a7)\n",
    "            a.append(a8)\n",
    "            a.append(a9)\n",
    "            a.append(a10)\n",
    "            a.append(a11)\n",
    "            a.append(a12)\n",
    "            x.loc[len(x)]=a\n",
    "            #print a\n",
    "            v+=1"
   ]
  },
  {
   "cell_type": "code",
   "execution_count": null,
   "metadata": {
    "collapsed": false
   },
   "outputs": [],
   "source": [
    "print x.head()"
   ]
  },
  {
   "cell_type": "code",
   "execution_count": null,
   "metadata": {
    "collapsed": true
   },
   "outputs": [],
   "source": []
  }
 ],
 "metadata": {
  "anaconda-cloud": {},
  "kernelspec": {
   "display_name": "Python [Root]",
   "language": "python",
   "name": "Python [Root]"
  },
  "language_info": {
   "codemirror_mode": {
    "name": "ipython",
    "version": 2
   },
   "file_extension": ".py",
   "mimetype": "text/x-python",
   "name": "python",
   "nbconvert_exporter": "python",
   "pygments_lexer": "ipython2",
   "version": "2.7.12"
  }
 },
 "nbformat": 4,
 "nbformat_minor": 0
}
